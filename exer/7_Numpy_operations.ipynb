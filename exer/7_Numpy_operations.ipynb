{
 "cells": [
  {
   "cell_type": "code",
   "execution_count": 1,
   "metadata": {},
   "outputs": [],
   "source": [
    "import numpy as np"
   ]
  },
  {
   "cell_type": "code",
   "execution_count": 2,
   "metadata": {},
   "outputs": [
    {
     "name": "stdout",
     "output_type": "stream",
     "text": [
      "[0 1 2]\n",
      "[3 4 5 6 7 8]\n",
      "[3 5 7]\n"
     ]
    }
   ],
   "source": [
    "\"\"\"\n",
    "NumPy Array Attributes\n",
    "\"\"\"\n",
    "\n",
    "# Creating an array\n",
    "print(np.arange(3))\n",
    "print(np.arange(3, 9))\n",
    "print(np.arange(3, 9, 2))"
   ]
  },
  {
   "cell_type": "code",
   "execution_count": 25,
   "metadata": {},
   "outputs": [
    {
     "name": "stdout",
     "output_type": "stream",
     "text": [
      "[[5 0 3 3]\n",
      " [7 9 3 5]\n",
      " [2 4 7 6]]\n"
     ]
    }
   ],
   "source": [
    "# Random number generator\n",
    "\n",
    "np.random.seed(0)\n",
    "arr1 = np.random.randint(10, size=(3, 4))\n",
    "print(arr1)"
   ]
  },
  {
   "cell_type": "code",
   "execution_count": 26,
   "metadata": {},
   "outputs": [
    {
     "name": "stdout",
     "output_type": "stream",
     "text": [
      "[[5 8 9 5]\n",
      " [0 0 1 7]\n",
      " [6 9 2 4]]\n",
      "arr.ndim = 2\n",
      "arr.shape = (3, 4)\n",
      "arr.size = 12\n",
      "arr.dtype = int32\n",
      "arr.itemsize = 4\n",
      "arr.nbytes = 48\n"
     ]
    }
   ],
   "source": [
    "# Attributes\n",
    "\n",
    "np.random.seed(1)\n",
    "arr = np.random.randint(10, size=(3,4))\n",
    "print(arr)\n",
    "\n",
    "print(\"arr.ndim =\",arr.ndim)\n",
    "print(\"arr.shape =\",arr.shape) # 배열의 형태\n",
    "print(\"arr.size =\",arr.size) # 배열의 크기(원소 개수)\n",
    "\n",
    "print(\"arr.dtype =\",arr.dtype) # 배열의 데이터 타입\n",
    "print(\"arr.itemsize =\",arr.itemsize)\n",
    "print(\"arr.nbytes =\",arr.nbytes)"
   ]
  },
  {
   "cell_type": "code",
   "execution_count": 29,
   "metadata": {},
   "outputs": [
    {
     "name": "stdout",
     "output_type": "stream",
     "text": [
      "[0 1 2 3 4 5 6 7 8 9]\n",
      "[3 4 5 6]\n",
      "[0 1 2 3 4]\n",
      "[5 6 7 8 9]\n",
      "[0 3 6 9]\n",
      "[2 4 6]\n"
     ]
    }
   ],
   "source": [
    "\"\"\"\n",
    "Slicing\n",
    "\"\"\"\n",
    "\n",
    "arr = np.arange(10)\n",
    "print(arr)\n",
    "\n",
    "print(arr[3:7])\n",
    "print(arr[:5])\n",
    "print(arr[5:])\n",
    "print(arr[::3])\n",
    "print(arr[2:8:2])"
   ]
  },
  {
   "cell_type": "code",
   "execution_count": 35,
   "metadata": {},
   "outputs": [
    {
     "name": "stdout",
     "output_type": "stream",
     "text": [
      "[[8 8 6 2 8 7 2 1]\n",
      " [5 4 4 5 7 3 6 4]\n",
      " [3 7 6 1 3 5 8 4]\n",
      " [6 3 9 2 0 4 2 4]\n",
      " [1 7 8 2 9 8 7 1]\n",
      " [6 8 5 9 9 9 3 0]]\n",
      "[[8 8]\n",
      " [5 4]]\n",
      "[[99  8  6  2  8  7  2  1]\n",
      " [ 5  4  4  5  7  3  6  4]\n",
      " [ 3  7  6  1  3  5  8  4]\n",
      " [ 6  3  9  2  0  4  2  4]\n",
      " [ 1  7  8  2  9  8  7  1]\n",
      " [ 6  8  5  9  9  9  3  0]]\n"
     ]
    }
   ],
   "source": [
    "# Multi-dimensional Subarrays\n",
    "\n",
    "np.random.seed(2)\n",
    "arr = np.random.randint(10, size=(6,8))\n",
    "print(arr)\n",
    "\n",
    "arr_sub = arr[:2, :2] # 복사본이 아닌 뷰(View) 대입, 원본 참조 가능\n",
    "print(arr_sub)\n",
    "\n",
    "arr_sub[0, 0] = 99\n",
    "print(arr)"
   ]
  },
  {
   "cell_type": "code",
   "execution_count": 39,
   "metadata": {},
   "outputs": [
    {
     "name": "stdout",
     "output_type": "stream",
     "text": [
      "[[8 9 3 8 8 0 5 3]\n",
      " [9 9 5 7 6 0 4 7]\n",
      " [8 1 6 2 2 1 3 5]\n",
      " [8 1 8 7 8 1 0 5]\n",
      " [4 1 5 4 7 6 0 0]\n",
      " [9 2 4 5 8 8 7 5]]\n",
      "[[8 9]\n",
      " [9 9]]\n",
      "[[8 9 3 8 8 0 5 3]\n",
      " [9 9 5 7 6 0 4 7]\n",
      " [8 1 6 2 2 1 3 5]\n",
      " [8 1 8 7 8 1 0 5]\n",
      " [4 1 5 4 7 6 0 0]\n",
      " [9 2 4 5 8 8 7 5]]\n"
     ]
    }
   ],
   "source": [
    "\"\"\"\n",
    "Subarrays as no-copy views\n",
    "\"\"\"\n",
    "np.random.seed(3)\n",
    "arr = np.random.randint(10, size=(6,8))\n",
    "print(arr)\n",
    "\n",
    "arr_sub = arr[:2, :2].copy() # 복사본 대입, 원본 참조 불가\n",
    "print(arr_sub)\n",
    "\n",
    "arr_sub[0, 0] = 99\n",
    "print(arr)"
   ]
  },
  {
   "cell_type": "code",
   "execution_count": 42,
   "metadata": {},
   "outputs": [
    {
     "name": "stdout",
     "output_type": "stream",
     "text": [
      "[1 2 3 4 5 6 7 8 9] \n",
      "\n",
      "[[1 2 3]\n",
      " [4 5 6]\n",
      " [7 8 9]] \n",
      "\n"
     ]
    }
   ],
   "source": [
    "\"\"\"\n",
    "Reshaping of Arrays\n",
    "\"\"\"\n",
    "\n",
    "arr = np.arange(1, 10)\n",
    "print(arr, '\\n')\n",
    "\n",
    "grid = arr.reshape(3,3)\n",
    "print(grid, '\\n')"
   ]
  },
  {
   "cell_type": "code",
   "execution_count": 44,
   "metadata": {},
   "outputs": [
    {
     "name": "stdout",
     "output_type": "stream",
     "text": [
      "[1 2 3]\n",
      "(3,) \n",
      "\n",
      "[[1 2 3]]\n",
      "(1, 3) \n",
      "\n",
      "[[1]\n",
      " [2]\n",
      " [3]]\n",
      "(3, 1) \n",
      "\n"
     ]
    }
   ],
   "source": [
    "# np.newaxis\n",
    "\n",
    "arr = np.array([1,2,3])\n",
    "print(arr)\n",
    "print(arr.shape, '\\n')\n",
    "\n",
    "arr_new = arr[np.newaxis, :]\n",
    "print(arr_new)\n",
    "print(arr_new.shape, '\\n')\n",
    "\n",
    "arr_new = arr[:, np.newaxis]\n",
    "print(arr_new)\n",
    "print(arr_new.shape, '\\n')"
   ]
  },
  {
   "cell_type": "code",
   "execution_count": 50,
   "metadata": {},
   "outputs": [
    {
     "name": "stdout",
     "output_type": "stream",
     "text": [
      "[[1 2 3 4 5 6 7 8 9]\n",
      " [1 2 3 4 5 6 7 8 9]]\n",
      "[[1 2 3]\n",
      " [1 2 3]\n",
      " [4 5 6]\n",
      " [4 5 6]\n",
      " [7 8 9]\n",
      " [7 8 9]]\n",
      "[[1 2 3 4 5 6 7 8 9]\n",
      " [1 2 3 4 5 6 7 8 9]]\n"
     ]
    }
   ],
   "source": [
    "\"\"\"\n",
    "Array Concatenation\n",
    "\"\"\"\n",
    "\n",
    "# np.concatenate(), np.vstack(), np.hstack()\n",
    "\n",
    "arr_1 = np.array([[1,2,3],[1,2,3]])\n",
    "arr_2 = np.array([[4,5,6],[4,5,6]])\n",
    "arr_3 = np.array([[7,8,9],[7,8,9]])\n",
    "\n",
    "arr_total = np.concatenate([arr_1, arr_2, arr_3], axis=1)\n",
    "print(arr_total)\n",
    "\n",
    "arr_total = np.vstack([arr_1, arr_2, arr_3])\n",
    "print(arr_total)\n",
    "\n",
    "arr_total = np.hstack([arr_1, arr_2, arr_3])\n",
    "print(arr_total)"
   ]
  },
  {
   "cell_type": "code",
   "execution_count": 55,
   "metadata": {},
   "outputs": [
    {
     "name": "stdout",
     "output_type": "stream",
     "text": [
      "[1, 2, 3, 99, 99, 3, 2, 1] \n",
      "\n",
      "[1 2 3] [99 99] [3 2 1]\n"
     ]
    }
   ],
   "source": [
    "\"\"\"\n",
    "Array Splitting\n",
    "\"\"\"\n",
    "\n",
    "arr = [1, 2, 3, 99, 99, 3, 2, 1]\n",
    "print(arr, '\\n')\n",
    "\n",
    "arr_1, arr_2, arr_3 = np.split(arr, [3, 5])\n",
    "print(arr_1, arr_2, arr_3)"
   ]
  }
 ],
 "metadata": {
  "kernelspec": {
   "display_name": "Python 3",
   "language": "python",
   "name": "python3"
  },
  "language_info": {
   "codemirror_mode": {
    "name": "ipython",
    "version": 3
   },
   "file_extension": ".py",
   "mimetype": "text/x-python",
   "name": "python",
   "nbconvert_exporter": "python",
   "pygments_lexer": "ipython3",
   "version": "3.8.5"
  }
 },
 "nbformat": 4,
 "nbformat_minor": 4
}
