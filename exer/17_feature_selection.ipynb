{
 "cells": [
  {
   "cell_type": "code",
   "execution_count": 1,
   "metadata": {},
   "outputs": [
    {
     "name": "stderr",
     "output_type": "stream",
     "text": [
      "<ipython-input-1-e1d358188b87>:4: FutureWarning: The pandas.datetime class is deprecated and will be removed from pandas in a future version. Import from datetime module instead.\n",
      "  from pandas import datetime\n"
     ]
    },
    {
     "name": "stdout",
     "output_type": "stream",
     "text": [
      "Using matplotlib backend: TkAgg\n"
     ]
    }
   ],
   "source": [
    "\"\"\"\n",
    "Load AirQualityUCI Data\n",
    "\"\"\"\n",
    "from pandas import datetime\n",
    "from pandas import DataFrame\n",
    "from matplotlib import pyplot as plt\n",
    "import pandas as pd\n",
    "import numpy as np\n",
    "\n",
    "def parser(x):\n",
    "    return datetime.strptime(x, '%Y-%m-%d %H:%M:%S')\n",
    "\n",
    "input_file = './data/AirQualityUCI_refined.csv'\n",
    "\n",
    "df = pd.read_csv(input_file,\n",
    "                 index_col=[0],\n",
    "                 parse_dates=[0],\n",
    "                 date_parser=parser)\n",
    "\n",
    "\n",
    "# Visualization setup\n",
    "%matplotlib\n",
    "from matplotlib import pyplot as plt\n",
    "import seaborn as sns; sns.set()  # set plot styles\n",
    "%config InlineBackend.figure_format = 'svg'\n",
    "plt.rcParams['figure.figsize'] = [10, 5]\n",
    "plt.ion() # enable the interactive mode"
   ]
  },
  {
   "cell_type": "code",
   "execution_count": 2,
   "metadata": {},
   "outputs": [
    {
     "name": "stdout",
     "output_type": "stream",
     "text": [
      "<class 'pandas.core.frame.DataFrame'>\n",
      "DatetimeIndex: 9357 entries, 2004-03-10 18:00:00 to 2005-04-04 14:00:00\n",
      "Data columns (total 11 columns):\n",
      " #   Column         Non-Null Count  Dtype  \n",
      "---  ------         --------------  -----  \n",
      " 0   CO(GT)         9357 non-null   float64\n",
      " 1   PT08.S1(CO)    8991 non-null   float64\n",
      " 2   PT08.S2(NMHC)  8991 non-null   float64\n",
      " 3   NOx(GT)        7718 non-null   float64\n",
      " 4   PT08.S3(NOx)   8991 non-null   float64\n",
      " 5   NO2(GT)        7715 non-null   float64\n",
      " 6   PT08.S4(NO2)   8991 non-null   float64\n",
      " 7   PT08.S5(O3)    8991 non-null   float64\n",
      " 8   RH             8991 non-null   float64\n",
      " 9   AH             8991 non-null   float64\n",
      " 10  C6H6(GT)       9357 non-null   float64\n",
      "dtypes: float64(11)\n",
      "memory usage: 877.2 KB\n"
     ]
    }
   ],
   "source": [
    "# Interpolate the 'CO(GT)' column\n",
    "df['CO(GT)'].interpolate(inplace=True)\n",
    "df.info()"
   ]
  },
  {
   "cell_type": "code",
   "execution_count": 2,
   "metadata": {},
   "outputs": [
    {
     "data": {
      "text/plain": [
       "<seaborn.axisgrid.PairGrid at 0x1fba1b3ebb0>"
      ]
     },
     "execution_count": 2,
     "metadata": {},
     "output_type": "execute_result"
    }
   ],
   "source": [
    "\"\"\"\n",
    "Correlation Matrix\n",
    "\"\"\"\n",
    "\n",
    "sns.pairplot(df.iloc[:5000], kind='reg', diag_kind='kde',\n",
    "            plot_kws={'scatter_kws': {'alpha':0.1}})"
   ]
  },
  {
   "cell_type": "code",
   "execution_count": 5,
   "metadata": {},
   "outputs": [
    {
     "name": "stdout",
     "output_type": "stream",
     "text": [
      "                     PT08.S1(CO)  PT08.S2(NMHC)  NOx(GT)  PT08.S3(NOx)  \\\n",
      "Datetime                                                                 \n",
      "2004-03-10 18:00:00       1360.0         1046.0    166.0        1056.0   \n",
      "2004-03-10 19:00:00       1292.0          955.0    103.0        1174.0   \n",
      "2004-03-10 20:00:00       1402.0          939.0    131.0        1140.0   \n",
      "2004-03-10 21:00:00       1376.0          948.0    172.0        1092.0   \n",
      "2004-03-10 22:00:00       1272.0          836.0    131.0        1205.0   \n",
      "...                          ...            ...      ...           ...   \n",
      "2005-04-04 10:00:00       1314.0         1101.0    472.0         539.0   \n",
      "2005-04-04 11:00:00       1163.0         1027.0    353.0         604.0   \n",
      "2005-04-04 12:00:00       1142.0         1063.0    293.0         603.0   \n",
      "2005-04-04 13:00:00       1003.0          961.0    235.0         702.0   \n",
      "2005-04-04 14:00:00       1071.0         1047.0    265.0         654.0   \n",
      "\n",
      "                     NO2(GT)  PT08.S4(NO2)  PT08.S5(O3)    RH      AH  \\\n",
      "Datetime                                                                \n",
      "2004-03-10 18:00:00    113.0        1692.0       1268.0  48.9  0.7578   \n",
      "2004-03-10 19:00:00     92.0        1559.0        972.0  47.7  0.7255   \n",
      "2004-03-10 20:00:00    114.0        1555.0       1074.0  54.0  0.7502   \n",
      "2004-03-10 21:00:00    122.0        1584.0       1203.0  60.0  0.7867   \n",
      "2004-03-10 22:00:00    116.0        1490.0       1110.0  59.6  0.7888   \n",
      "...                      ...           ...          ...   ...     ...   \n",
      "2005-04-04 10:00:00    190.0        1374.0       1729.0  29.3  0.7568   \n",
      "2005-04-04 11:00:00    179.0        1264.0       1269.0  23.7  0.7119   \n",
      "2005-04-04 12:00:00    175.0        1241.0       1092.0  18.3  0.6406   \n",
      "2005-04-04 13:00:00    156.0        1041.0        770.0  13.5  0.5139   \n",
      "2005-04-04 14:00:00    168.0        1129.0        816.0  13.1  0.5028   \n",
      "\n",
      "                     C6H6(GT)  \n",
      "Datetime                       \n",
      "2004-03-10 18:00:00      11.9  \n",
      "2004-03-10 19:00:00       9.4  \n",
      "2004-03-10 20:00:00       9.0  \n",
      "2004-03-10 21:00:00       9.2  \n",
      "2004-03-10 22:00:00       6.5  \n",
      "...                       ...  \n",
      "2005-04-04 10:00:00      13.5  \n",
      "2005-04-04 11:00:00      11.4  \n",
      "2005-04-04 12:00:00      12.4  \n",
      "2005-04-04 13:00:00       9.5  \n",
      "2005-04-04 14:00:00      11.9  \n",
      "\n",
      "[9357 rows x 10 columns]\n",
      "Datetime\n",
      "2004-03-10 18:00:00    2.6\n",
      "2004-03-10 19:00:00    2.0\n",
      "2004-03-10 20:00:00    2.2\n",
      "2004-03-10 21:00:00    2.2\n",
      "2004-03-10 22:00:00    1.6\n",
      "                      ... \n",
      "2005-04-04 10:00:00    3.1\n",
      "2005-04-04 11:00:00    2.4\n",
      "2005-04-04 12:00:00    2.4\n",
      "2005-04-04 13:00:00    2.1\n",
      "2005-04-04 14:00:00    2.2\n",
      "Name: CO(GT), Length: 9357, dtype: float64\n"
     ]
    }
   ],
   "source": [
    "# Prepare a feature set\n",
    "X = df.iloc[:, 1:] # input features\n",
    "print(X)\n",
    "\n",
    "Y = df.iloc[:, 0] # target variable\n",
    "print(Y)"
   ]
  },
  {
   "cell_type": "code",
   "execution_count": null,
   "metadata": {},
   "outputs": [],
   "source": [
    "# Create and train model for regression\n",
    "from sklearn.ensemble import RandomForestRegressor\n",
    "\n",
    "model = RandomForestRegressor()\n",
    "model.fit(X, y)\n",
    "\n",
    "print(model.feature_importances_)"
   ]
  },
  {
   "cell_type": "code",
   "execution_count": null,
   "metadata": {},
   "outputs": [],
   "source": [
    "# Plot the feature importances\n",
    "feat_importances = pd.Series(model.feature_importances_, index=X.columns)\n",
    "feat_importances.nlargest(10).plot(kind='barh')\n",
    "plt.show()"
   ]
  }
 ],
 "metadata": {
  "kernelspec": {
   "display_name": "Python 3",
   "language": "python",
   "name": "python3"
  },
  "language_info": {
   "codemirror_mode": {
    "name": "ipython",
    "version": 3
   },
   "file_extension": ".py",
   "mimetype": "text/x-python",
   "name": "python",
   "nbconvert_exporter": "python",
   "pygments_lexer": "ipython3",
   "version": "3.8.5"
  }
 },
 "nbformat": 4,
 "nbformat_minor": 4
}
