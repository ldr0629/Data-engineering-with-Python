{
 "cells": [
  {
   "cell_type": "code",
   "execution_count": 1,
   "metadata": {},
   "outputs": [],
   "source": [
    "import numpy as np"
   ]
  },
  {
   "cell_type": "code",
   "execution_count": 4,
   "metadata": {},
   "outputs": [
    {
     "name": "stdout",
     "output_type": "stream",
     "text": [
      "[7 2 5 3 8]\n",
      "[0.14285714 0.5        0.2        0.33333333 0.125     ]\n"
     ]
    }
   ],
   "source": [
    "\"\"\"\n",
    "Computing reciprocals in loops\n",
    "\"\"\"\n",
    "\n",
    "# Function for computing reciprocals using Looping\n",
    "def compute_reciprocals(values):\n",
    "    output = np.empty(len(values))\n",
    "    for i in range(len(values)):\n",
    "        output[i] = 1.0 / values[i]\n",
    "    return output\n",
    "\n",
    "values = np.random.randint(1, 10, size=5)\n",
    "print(values)\n",
    "\n",
    "print(compute_reciprocals(values))"
   ]
  },
  {
   "cell_type": "code",
   "execution_count": 7,
   "metadata": {},
   "outputs": [
    {
     "name": "stdout",
     "output_type": "stream",
     "text": [
      "4.06 s ± 90.7 ms per loop (mean ± std. dev. of 7 runs, 1 loop each)\n"
     ]
    }
   ],
   "source": [
    "\"\"\"\n",
    "Comparison: Loop vs ufuncs(vectorized)\n",
    "\"\"\"\n",
    "\n",
    "big_array = np.random.randint(1, 100, size=1000000)\n",
    "\n",
    "# Looping on a big array\n",
    "%timeit compute_reciprocals(big_array)"
   ]
  },
  {
   "cell_type": "code",
   "execution_count": 8,
   "metadata": {},
   "outputs": [
    {
     "name": "stdout",
     "output_type": "stream",
     "text": [
      "7.07 ms ± 469 µs per loop (mean ± std. dev. of 7 runs, 100 loops each)\n"
     ]
    }
   ],
   "source": [
    "# Vectorized operations\n",
    "%timeit 1 / big_array"
   ]
  },
  {
   "cell_type": "code",
   "execution_count": 14,
   "metadata": {},
   "outputs": [
    {
     "name": "stdout",
     "output_type": "stream",
     "text": [
      "[5 8 9 5 0] [0 1 7 6 9]\n",
      "[ 3  6  7  3 -2]\n",
      "[ 3  7 14  9  7]\n",
      "[[2 4 5 2 4]\n",
      " [2 4 7 7 9]\n",
      " [1 7 0 6 9]]\n",
      "[[ 4 16 25  4 16]\n",
      " [ 4 16 49 49 81]\n",
      " [ 1 49  0 36 81]]\n"
     ]
    }
   ],
   "source": [
    "\"\"\"\n",
    "numpy.ufunc\n",
    "\"\"\"\n",
    "\n",
    "np.random.seed(1)\n",
    "arr1 = np.random.randint(10, size=5)\n",
    "arr2 = np.random.randint(10, size=5)\n",
    "print(arr1, arr2)\n",
    "\n",
    "# array + scalar\n",
    "arr1 = arr1 - 2\n",
    "print(arr1)\n",
    "\n",
    "# array + array\n",
    "arr3 = arr1 + arr2\n",
    "print(arr3)\n",
    "\n",
    "arr4 = np.random.randint(10, size=(3,5))\n",
    "print(arr4)\n",
    "\n",
    "# multi-dimensional array scalar operation\n",
    "arr5 = arr4 ** 2\n",
    "print(arr5)"
   ]
  },
  {
   "cell_type": "code",
   "execution_count": 24,
   "metadata": {},
   "outputs": [
    {
     "name": "stdout",
     "output_type": "stream",
     "text": [
      "x     = [0 1 2 3]\n",
      "x + 5 = [5 6 7 8]\n",
      "x - 5 = [-5 -4 -3 -2]\n",
      "x * 2 = [0 2 4 6]\n",
      "x / 2 = [0.  0.5 1.  1.5]\n",
      "x ** 2 = [0 1 4 9]\n",
      "x     = [0 1 2 3]\n",
      "x + 5 = [5 6 7 8]\n",
      "x - 5 = [-5 -4 -3 -2]\n",
      "x * 2 = [0 2 4 6]\n",
      "x / 2 = [0.  0.5 1.  1.5]\n",
      "x ** 2 = [0 1 4 9]\n"
     ]
    }
   ],
   "source": [
    "\"\"\"\n",
    "UFuncs: Array Arithmetic\n",
    "\"\"\"\n",
    "x = np.arange(4)\n",
    "print(\"x     =\",x)\n",
    "print(\"x + 5 =\", x+5)\n",
    "print(\"x - 5 =\",x-5)\n",
    "print(\"x * 2 =\",x*2)\n",
    "print(\"x / 2 =\",x/2)\n",
    "print(\"x ** 2 =\",x**2)\n",
    "\n",
    "print(\"x     =\",x)\n",
    "print(\"x + 5 =\",np.add(x, 5))\n",
    "print(\"x - 5 =\",np.subtract(x, 5))\n",
    "print(\"x * 2 =\",np.multiply(x, 2))\n",
    "print(\"x / 2 =\",np.divide(x, 2))\n",
    "print(\"x ** 2 =\",np.power(x, 2))"
   ]
  },
  {
   "cell_type": "code",
   "execution_count": 20,
   "metadata": {},
   "outputs": [
    {
     "name": "stdout",
     "output_type": "stream",
     "text": [
      "[2 1 0 1 2]\n",
      "[5. 5. 2. 1.]\n"
     ]
    }
   ],
   "source": [
    "\"\"\"\n",
    "UFuncs: Absolute Value\n",
    "\"\"\"\n",
    "\n",
    "x = np.array([-2, -1, 0, 1, 2])\n",
    "print(np.abs(x))\n",
    "\n",
    "x = np.array([3-4j, 4-3j, 2+0j, 0+1j])\n",
    "print(np.abs(x))"
   ]
  },
  {
   "cell_type": "code",
   "execution_count": 23,
   "metadata": {},
   "outputs": [
    {
     "name": "stdout",
     "output_type": "stream",
     "text": [
      "[0.         1.57079633 3.14159265]\n",
      "[0.0000000e+00 1.0000000e+00 1.2246468e-16]\n",
      "[ 1.000000e+00  6.123234e-17 -1.000000e+00]\n",
      "[ 0.00000000e+00  1.63312394e+16 -1.22464680e-16]\n"
     ]
    }
   ],
   "source": [
    "\"\"\"\n",
    "UFuncs: Trigonometric Functions\n",
    "\"\"\"\n",
    "\n",
    "theta = np.linspace(0, np.pi, 3)\n",
    "print(theta)\n",
    "\n",
    "print(np.sin(theta))\n",
    "print(np.cos(theta))\n",
    "print(np.tan(theta))"
   ]
  },
  {
   "cell_type": "code",
   "execution_count": 30,
   "metadata": {},
   "outputs": [
    {
     "name": "stdout",
     "output_type": "stream",
     "text": [
      "[1 2 3 4]\n",
      "10\n",
      "24\n"
     ]
    }
   ],
   "source": [
    "\"\"\"\n",
    "UFuncs: Aggregation\n",
    "\"\"\"\n",
    "\n",
    "x = np.arange(1, 5)\n",
    "print(x)\n",
    "\n",
    "aggr = np.add.reduce(x)\n",
    "print(aggr)\n",
    "\n",
    "aggr = np.multiply.reduce(x)\n",
    "print(aggr)"
   ]
  },
  {
   "cell_type": "code",
   "execution_count": 35,
   "metadata": {},
   "outputs": [
    {
     "name": "stdout",
     "output_type": "stream",
     "text": [
      "[ 1  2  3  4  5  6  7  8  9 10 11 12 13 14]\n",
      "[  1   3   6  10  15  21  28  36  45  55  66  78  91 105]\n"
     ]
    }
   ],
   "source": [
    "# accumulate()\n",
    "\n",
    "x = np.arange(1, 15)\n",
    "print(x)\n",
    "\n",
    "accum = np.add.accumulate(x)\n",
    "print(accum)"
   ]
  },
  {
   "cell_type": "code",
   "execution_count": 38,
   "metadata": {},
   "outputs": [
    {
     "name": "stdout",
     "output_type": "stream",
     "text": [
      "[0.4359949  0.02592623 0.54966248 ... 0.78483191 0.00778062 0.42442656]\n",
      "sum = 499468.5166853333\n",
      "207 ms ± 3.61 ms per loop (mean ± std. dev. of 7 runs, 1 loop each)\n"
     ]
    }
   ],
   "source": [
    "# Summing the Values in an Array\n",
    "\n",
    "np.random.seed(2)\n",
    "arr = np.random.rand(1000000) # rand() : create 0~1 real values\n",
    "\n",
    "print(arr)\n",
    "print('sum =',np.sum(arr))\n",
    "\n",
    "%timeit sum(arr)"
   ]
  },
  {
   "cell_type": "code",
   "execution_count": 40,
   "metadata": {},
   "outputs": [
    {
     "name": "stdout",
     "output_type": "stream",
     "text": [
      "1.5 ms ± 58.9 µs per loop (mean ± std. dev. of 7 runs, 1000 loops each)\n"
     ]
    }
   ],
   "source": [
    "%timeit np.sum(arr)"
   ]
  },
  {
   "cell_type": "code",
   "execution_count": 44,
   "metadata": {},
   "outputs": [
    {
     "name": "stdout",
     "output_type": "stream",
     "text": [
      "max = 0.9999976661165695\n",
      "min = 9.475783189216713e-07\n",
      "mean = 0.49946851668533326\n",
      "median = 0.49948650836352526\n",
      "percentile = 0.9004310892470595\n",
      "False\n",
      "True\n"
     ]
    }
   ],
   "source": [
    "# Other Aggr, functions\n",
    "\n",
    "print(\"max =\",np.max(arr))\n",
    "print(\"min =\",np.min(arr))\n",
    "print(\"mean =\",np.mean(arr))\n",
    "print(\"median =\",np.median(arr))\n",
    "print(\"percentile =\",np.percentile(arr, 90))\n",
    "print(np.any(arr>1))\n",
    "print(np.all(arr>0))"
   ]
  },
  {
   "cell_type": "code",
   "execution_count": 47,
   "metadata": {},
   "outputs": [
    {
     "name": "stdout",
     "output_type": "stream",
     "text": [
      "[[3 6 6 0]\n",
      " [9 8 4 7]\n",
      " [0 0 7 1]]\n",
      "[12 14 17  8]\n",
      "[15 28  8]\n"
     ]
    }
   ],
   "source": [
    "# Multi dimensional aggregates\n",
    "\n",
    "np.random.seed(5)\n",
    "\n",
    "arr= np.random.randint(10, size=(3,4))\n",
    "print(arr)\n",
    "\n",
    "print(np.sum(arr, axis=0))\n",
    "print(np.sum(arr, axis=1))"
   ]
  }
 ],
 "metadata": {
  "kernelspec": {
   "display_name": "Python 3",
   "language": "python",
   "name": "python3"
  },
  "language_info": {
   "codemirror_mode": {
    "name": "ipython",
    "version": 3
   },
   "file_extension": ".py",
   "mimetype": "text/x-python",
   "name": "python",
   "nbconvert_exporter": "python",
   "pygments_lexer": "ipython3",
   "version": "3.8.5"
  }
 },
 "nbformat": 4,
 "nbformat_minor": 4
}
