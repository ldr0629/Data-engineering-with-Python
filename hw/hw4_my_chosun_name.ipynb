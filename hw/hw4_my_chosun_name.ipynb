{
 "cells": [
  {
   "cell_type": "code",
   "execution_count": 2,
   "metadata": {},
   "outputs": [
    {
     "name": "stdout",
     "output_type": "stream",
     "text": [
      "['쌍', '쇠', '복', '돌', '팽', '육', '쌍', '개', '칠', '갑', '삼', '방']\n",
      "['봉', '구', '욕', '포', '똥', '삼', '식', '석', '놈', '님', '년', '돌', '단', '득', '방', '질', '장', '걸', '래', '룡', '동', '순', '자', '박', '창', '언', '것', '포', '만', '단', '국']\n",
      "당신의 조선시대 이름은 이육만 입니다.\n"
     ]
    }
   ],
   "source": [
    "# 태어난 달에 해당되는 이름의 첫번째 글자에 대한 리스트\n",
    "month_list = ['쌍', '쇠', '복', '돌', '팽', '육', '쌍', \n",
    "              '개', '칠', '갑', '삼', '방']\n",
    "print(month_list)\n",
    "\n",
    "# 태어난 날짜에 해당되는 이름의 두번째 글자에 대한 리스트\n",
    "day_list = ['봉', '구', '욕', '포', '똥', '삼', '식', \n",
    "            '석', '놈', '님', '년', '돌', '단', '득', \n",
    "            '방', '질', '장', '걸', '래', '룡', '동', \n",
    "            '순', '자', '박', '창', '언', '것', '포', \n",
    "            '만', '단', '국']\n",
    "print(day_list)\n",
    "\n",
    "# 성, 태어난 달, 태어난 날짜를 매개변수로 입력받는다.\n",
    "# 나의 조선시대 이름을 문자열로 반환하는 함수 작성\n",
    "def get_my_chosun_name(family_name, month, day):\n",
    "    # 리스트의 인덱스는 0부터 시작하므로 인덱스로 접근할 때 1씩 빼준다.\n",
    "    chosun_name = family_name + month_list[month-1] + day_list[day-1]\n",
    "    return \"당신의 조선시대 이름은 %s 입니다.\" % (chosun_name)\n",
    "\n",
    "# 함수의 반환 값을 대입한 후 출력\n",
    "my_name = get_my_chosun_name('이', 6, 29)\n",
    "print(my_name)"
   ]
  }
 ],
 "metadata": {
  "kernelspec": {
   "display_name": "Python 3",
   "language": "python",
   "name": "python3"
  },
  "language_info": {
   "codemirror_mode": {
    "name": "ipython",
    "version": 3
   },
   "file_extension": ".py",
   "mimetype": "text/x-python",
   "name": "python",
   "nbconvert_exporter": "python",
   "pygments_lexer": "ipython3",
   "version": "3.8.5"
  }
 },
 "nbformat": 4,
 "nbformat_minor": 4
}
