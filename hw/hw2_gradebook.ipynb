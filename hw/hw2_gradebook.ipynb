{
 "cells": [
  {
   "cell_type": "code",
   "execution_count": 20,
   "metadata": {},
   "outputs": [
    {
     "name": "stdout",
     "output_type": "stream",
     "text": [
      "[['physics', 98], ['calculus', 97], ['poetry', 85], ['history', 88]]\n",
      "[['physics', 98], ['calculus', 97], ['poetry', 85], ['history', 88], ['computer science', 100], ['visual arts', 93]]\n",
      "[['physics', 98], ['calculus', 97], ['poetry', 'Pass'], ['history', 88], ['computer science', 100], ['visual arts', 98]]\n",
      "[['politics', 80], ['latin', 96], ['dance', 97], ['architecture', 65], ['physics', 98], ['calculus', 97], ['poetry', 'Pass'], ['history', 88], ['computer science', 100], ['visual arts', 98]]\n"
     ]
    }
   ],
   "source": [
    "# 과목 리스트, 성적 리스트, 성적표에 대한 2차원 리스트 선언\n",
    "subjects = [\"physics\", \"calculus\", \"poetry\", \"history\"]\n",
    "grades = [98, 97, 85, 88]\n",
    "gradebook = [[subjects[0], grades[0]],\n",
    "            [subjects[1], grades[1]],\n",
    "            [subjects[2], grades[2]],\n",
    "            [subjects[3], grades[3]]]\n",
    "print(gradebook)\n",
    "\n",
    "# 2차원 리스트에 두 개의 과목에 대한 성적 추가\n",
    "gradebook.append([\"computer science\", 100])\n",
    "gradebook.append([\"visual arts\", 93])\n",
    "print(gradebook)\n",
    "\n",
    "# 성적표 수정\n",
    "gradebook[5][1] += 5\n",
    "gradebook[2].remove(grades[2])\n",
    "gradebook[2].append(\"Pass\")\n",
    "print(gradebook)\n",
    "\n",
    "# 지난 학기 성적표에 대한 2차원 리스트 선언\n",
    "last_semester_gradebook = [[\"politics\", 80],\n",
    "                          [\"latin\", 96],\n",
    "                          [\"dance\", 97],\n",
    "                          [\"architecture\", 65]]\n",
    "\n",
    "# 2차원 리스트끼리 연산을 하여 최종 성적표의 2차원 리스트 선언\n",
    "full_gradebook = last_semester_gradebook + gradebook\n",
    "print(full_gradebook)"
   ]
  }
 ],
 "metadata": {
  "kernelspec": {
   "display_name": "Python 3",
   "language": "python",
   "name": "python3"
  },
  "language_info": {
   "codemirror_mode": {
    "name": "ipython",
    "version": 3
   },
   "file_extension": ".py",
   "mimetype": "text/x-python",
   "name": "python",
   "nbconvert_exporter": "python",
   "pygments_lexer": "ipython3",
   "version": "3.8.5"
  }
 },
 "nbformat": 4,
 "nbformat_minor": 4
}
