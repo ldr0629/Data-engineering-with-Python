{
 "cells": [
  {
   "cell_type": "code",
   "execution_count": 18,
   "metadata": {},
   "outputs": [
    {
     "name": "stdout",
     "output_type": "stream",
     "text": [
      "Average price is 31.875\n",
      "[25, 20, 35, 15, 15, 30, 45, 30]\n",
      "1085\n",
      "Average daily revenue is 155.0\n",
      "['bouffant', 'pixie', 'crew', 'bowl']\n"
     ]
    }
   ],
   "source": [
    "# 각각의 원소에 대응되는 리스트 선언\n",
    "hairstyles = [\"bouffant\", \"pixie\", \"dreadlocks\", \"crew\", \"bowl\", \"bob\", \"mohawk\", \"flattop\"]\n",
    "prices = [30, 25, 40, 20, 20, 35, 50, 35]\n",
    "last_week = [2, 3, 5, 8, 4, 4, 6, 2]\n",
    "\n",
    "# 반복문을 이용하여 합을 구한 후, 커트의 평균 가격 구하기\n",
    "total_price = 0\n",
    "for price in prices:\n",
    "    total_price += price\n",
    "average_price = total_price/len(prices)\n",
    "print(\"Average price is %.3f\" %(average_price))\n",
    "\n",
    "# list comprehension을 통해 새로운 가격에 대한 리스트 선언\n",
    "new_prices = [price-5 for price in prices]\n",
    "print(new_prices)\n",
    "\n",
    "# 총 수익에 대한 변수 선언 및 계산 수행\n",
    "total_revenue = 0\n",
    "for i in range(len(hairstyles)):\n",
    "    total_revenue += prices[i] * last_week[i]\n",
    "print(total_revenue)\n",
    "\n",
    "# 평균 일별 수익 계산\n",
    "average_daily_revenue = total_revenue/7\n",
    "print(\"Average daily revenue is %.1f\" %(average_daily_revenue))\n",
    "\n",
    "# new_prices에 있는 가격 중 30달러보다 적은 커트들만 모아놓은 리스트 선언\n",
    "cuts_under_30 = [hairstyles[i] for i in range(len(new_prices)-1) if new_prices[i] < 30]\n",
    "print(cuts_under_30)                 "
   ]
  }
 ],
 "metadata": {
  "kernelspec": {
   "display_name": "Python 3",
   "language": "python",
   "name": "python3"
  },
  "language_info": {
   "codemirror_mode": {
    "name": "ipython",
    "version": 3
   },
   "file_extension": ".py",
   "mimetype": "text/x-python",
   "name": "python",
   "nbconvert_exporter": "python",
   "pygments_lexer": "ipython3",
   "version": "3.8.5"
  }
 },
 "nbformat": 4,
 "nbformat_minor": 4
}
